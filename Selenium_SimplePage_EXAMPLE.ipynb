{
  "nbformat": 4,
  "nbformat_minor": 0,
  "metadata": {
    "colab": {
      "provenance": [],
      "authorship_tag": "ABX9TyNozLG1O8C4/NT/cENHSWqC",
      "include_colab_link": true
    },
    "kernelspec": {
      "name": "python3",
      "display_name": "Python 3"
    },
    "language_info": {
      "name": "python"
    }
  },
  "cells": [
    {
      "cell_type": "markdown",
      "metadata": {
        "id": "view-in-github",
        "colab_type": "text"
      },
      "source": [
        "<a href=\"https://colab.research.google.com/github/ProfessorPatrickSlatraigh/CIS9650/blob/main/Selenium_SimplePage_EXAMPLE.ipynb\" target=\"_parent\"><img src=\"https://colab.research.google.com/assets/colab-badge.svg\" alt=\"Open In Colab\"/></a>"
      ]
    },
    {
      "cell_type": "markdown",
      "source": [
        "# Selenium Simple Page Example  \n",
        "  \n",
        "<b>This notebook uses Selenium to read Dr. Chuck's simple web page at https://www.dr-chuck.com/page1.htm </b>\n",
        "  \n",
        "  \n",
        "*by Professor Patrick, 2024*  \n"
      ],
      "metadata": {
        "id": "aNVCmX7hjk_m"
      }
    },
    {
      "cell_type": "markdown",
      "source": [
        "## Install Necessary Packages:   \n",
        "  \n",
        "Install **Selenium** and the `google-colab-selenium` package, which simplifies the setup process in **Colab** environments."
      ],
      "metadata": {
        "id": "lRnJggRHkBFv"
      }
    },
    {
      "cell_type": "code",
      "execution_count": null,
      "metadata": {
        "id": "rwPjsVFBjd5L"
      },
      "outputs": [],
      "source": [
        "!pip install selenium google-colab-selenium"
      ]
    },
    {
      "cell_type": "markdown",
      "source": [
        "No need to set up ChromeDriver -- The `google-colab-selenium` package manages the installation and configuration of `ChromeDriver`, ensuring compatibility with the Colab environment."
      ],
      "metadata": {
        "id": "qVYojaGSkOX8"
      }
    },
    {
      "cell_type": "markdown",
      "source": [
        "## Initialize the WebDriver and Access the Web Page:  \n",
        "  \n",
        "Use the `google_colab_selenium` module to create a `Chrome WebDriver` instance and navigate to the desired URL (https://www.dr-chuck.com/page1.htm)."
      ],
      "metadata": {
        "id": "0geZ0Ii-kKJ1"
      }
    },
    {
      "cell_type": "markdown",
      "source": [
        "### 0. Housekeeping  \n",
        "\n",
        "Import the package as `gcs` to save typing."
      ],
      "metadata": {
        "id": "zBw8ayPUkr_V"
      }
    },
    {
      "cell_type": "code",
      "source": [
        "import google_colab_selenium as gcs"
      ],
      "metadata": {
        "id": "6nIkc6YMjjMN"
      },
      "execution_count": null,
      "outputs": []
    },
    {
      "cell_type": "markdown",
      "source": [
        "The `google-colab-selenium` package simplifies the setup of **Selenium** and **ChromeDriver** in **Google Colab** environments. However, it doesn't include all **Selenium** components. Specifically, the `By` class, which provides methods for locating web elements, is part of **Selenium's** standard library and isn't included in `google-colab-selenium`. Therefore, we need to import it directly from **Selenium** using:  \n",
        "  \n",
        "```\n",
        "from selenium.webdriver.common.by import By\n",
        "```"
      ],
      "metadata": {
        "id": "pquF0BGnsFON"
      }
    },
    {
      "cell_type": "code",
      "source": [
        "from selenium.webdriver.common.by import By"
      ],
      "metadata": {
        "id": "Ohf3eMX2sZLd"
      },
      "execution_count": null,
      "outputs": []
    },
    {
      "cell_type": "markdown",
      "source": [
        "### 1. Initialize Web Driver  \n",
        "  \n",
        "Using the `Chrome` class in `google_colab_selenium` which was aliased as `gcs`, we create a variable `driver` as our web driver.   "
      ],
      "metadata": {
        "id": "0yyOkVNpk4M5"
      }
    },
    {
      "cell_type": "markdown",
      "source": [
        "You will notice some delay when we initialize the web driver in a Google Colab notebook using `gcs.Chrome()`, beacuse the following sequence of actions occurs, leading to printed messages:  \n",
        "  \n",
        "\n",
        "<b><u>APT Update and Upgrade:</b></u>  \n",
        "  \n",
        "- The system's package list is updated (apt-get update), and installed packages are upgraded (apt-get upgrade).  \n",
        "  \n",
        "*This results in the printed message:* \"Updated and upgraded APT\"  \n",
        "  \n",
        "<b><u>Google Chrome Download:</b></u>    \n",
        "  \n",
        "- The latest version of Google Chrome is downloaded and installed.  \n",
        "  \n",
        "*This results in the printed message:* \"Downloaded Google Chrome\"  \n",
        "  \n",
        "<b><u>ChromeDriver Initialization:</b></u>    \n",
        "  \n",
        "- ChromeDriver, which enables Selenium to control Chrome, is initialized and configured.  \n",
        "  \n",
        "*This results in the printed message:* \"Initialized Chromedriver\"  \n",
        "  \n",
        "These steps ensure that both **Google Chrome** and **ChromeDriver** are properly installed and compatible, allowing **Selenium** to function correctly within the **Colab** environment.  \n"
      ],
      "metadata": {
        "id": "UUTOo5WrpAsZ"
      }
    },
    {
      "cell_type": "code",
      "source": [
        "# Initialize the WebDriver\n",
        "driver = gcs.Chrome()"
      ],
      "metadata": {
        "id": "h4_5UIPVk9QM"
      },
      "execution_count": null,
      "outputs": []
    },
    {
      "cell_type": "markdown",
      "source": [
        "### 2. Navigate to Desired Page  \n",
        "  \n",
        "We pass a string (\"https://www.dr-chuck.com/page1.htm\") with the URL of the desired web page to our web driver's `.get()` method and it navigates to that page by issuing an **HTML** `GET` statement.  "
      ],
      "metadata": {
        "id": "3_gkmzMDlQfJ"
      }
    },
    {
      "cell_type": "code",
      "source": [
        "# Navigate to the target page\n",
        "driver.get(\"https://www.dr-chuck.com/page1.htm\")"
      ],
      "metadata": {
        "id": "xP55A6Sglekx"
      },
      "execution_count": null,
      "outputs": []
    },
    {
      "cell_type": "markdown",
      "source": [
        "### 3. Retrieve the Page Title  \n",
        "  \n",
        "If invoking the `.get()` method was succesful, we should be able to extract the **title** from the **HTML** elements on the target URL.  Unfortunately for us, on Dr. Chuck's ['The First Page'](\"https://www.dr-chuck.com/page1.htm\") there is no **HTML** title tag.   \n",
        "  \n"
      ],
      "metadata": {
        "id": "4JwKkSg4l6cn"
      }
    },
    {
      "cell_type": "code",
      "source": [
        "# Retrieve and print the page title\n",
        "print(driver.title)"
      ],
      "metadata": {
        "id": "1VIf0lNhmOqY"
      },
      "execution_count": null,
      "outputs": []
    },
    {
      "cell_type": "markdown",
      "source": [
        "#### <b>Selenium's `.find_elements()`</b>  \n",
        "  \n",
        "Selenium's `find_elements()` method is a fundamental tool for locating multiple web elements on a webpage, enabling comprehensive web exploration and analysis. This method returns a list of all elements matching a specified locator strategy, allowing for batch processing of web elements.  \n",
        "  \n",
        "<b><u>Key Features of find_elements():</b></u>  \n",
        "  \n",
        "- Multiple Element Retrieval: Unlike `find_element()`, which retrieves only the first matching element, `find_elements()` fetches all elements that match the given criteria.  \n",
        "  \n",
        "- Flexible Locator Strategies: Utilizes various strategies to locate elements, such as by ID, name, class name, tag name, link text, partial link text, CSS selector, and XPath.  \n",
        "  \n",
        "<b><u>Common Locator Strategies:</b></u>  \n",
        "  \n",
        "- <b>By.ID:</b> Locates elements with a specific id attribute.  \n",
        "- <b>By.NAME:</b> Targets elements with a specific name attribute.  \n",
        "- <b>By.CLASS_NAME:</b> Selects elements with a specific **CSS** class.  \n",
        "- <b>By.TAG_NAME:</b> Finds elements with a specific **HTML** tag.  \n",
        "- <b>By.LINK_TEXT:</b> Identifies links `(<a> tags)` with exact matching text.  \n",
        "- <b>By.PARTIAL_LINK_TEXT:</b> Finds links containing the specified text.  \n",
        "- <b>By.CSS_SELECTOR:</b> Uses **CSS** selectors to locate elements.  \n",
        "- <b>By.XPATH:</b> Employs **XPath** expressions to find elements.  "
      ],
      "metadata": {
        "id": "XKGyQlpdvQtl"
      }
    },
    {
      "cell_type": "markdown",
      "source": [
        "In the following example, we use `.find_elements()` and iteration through the elements it returns in two steps --   \n",
        "1. **Element Location:** `.find_elements(By.TAG_NAME, 'h?')` where `?` is a variable of the level from 1 to 6 as provided by the `range()` function in the for-loop statement, to retrieve all related heading elements.  \n",
        "2. **Data Extraction:** Iterates through each heading element, extracting and printing the text attribute.  \n"
      ],
      "metadata": {
        "id": "pdePgahRxDVC"
      }
    },
    {
      "cell_type": "markdown",
      "source": [
        "### 4. Retrieve Up to 6 Heading Levels  \n"
      ],
      "metadata": {
        "id": "QN6Kn0YiqkOZ"
      }
    },
    {
      "cell_type": "code",
      "source": [
        "# Extract and print all headings (h1 to h6)\n",
        "for level in range(1, 7):\n",
        "    headings = driver.find_elements(By.TAG_NAME, f'h{level}')\n",
        "    for heading in headings:\n",
        "        print(f\"{heading.tag_name}: {heading.text}\")\n",
        "    print(f\"The variable `headings` is a {type(headings)} with {len(headings)} elements at level {level}.\")"
      ],
      "metadata": {
        "id": "aiVerlT6qkiy"
      },
      "execution_count": null,
      "outputs": []
    },
    {
      "cell_type": "markdown",
      "source": [
        "This allows you to use the `By` class in your scripts, enabling you to locate elements by various strategies, such as tag name, class name, or CSS selector."
      ],
      "metadata": {
        "id": "j5vrYB8_t4K_"
      }
    },
    {
      "cell_type": "markdown",
      "source": [
        "### 5. Extract All Links (URLs)  \n"
      ],
      "metadata": {
        "id": "OCgrGWOKuO70"
      }
    },
    {
      "cell_type": "markdown",
      "source": [
        "In the following example, we use `.find_elements()` and iteration through the elements it returns in two steps --   \n",
        "1. **Element Location:** `.find_elements(By.TAG_NAME, 'a')` to retrieve all anchor tags with hyperlink elements.  \n",
        "2. **Data Extraction:** Iterates through each heading element, extracting and printing the `'href'` (link) attribute.  "
      ],
      "metadata": {
        "id": "R7JPmlrYzbCI"
      }
    },
    {
      "cell_type": "code",
      "source": [
        "# Locate all elements with the tag name 'a' (hyperlinks)\n",
        "links = driver.find_elements(By.TAG_NAME, 'a')\n",
        "\n",
        "# Iterate through the list and print the href attribute of each link\n",
        "for link in links:\n",
        "    print(link.get_attribute('href'))"
      ],
      "metadata": {
        "id": "mR1aur8wzT7x"
      },
      "execution_count": null,
      "outputs": []
    },
    {
      "cell_type": "markdown",
      "source": [
        "  \n",
        "The following script uses `.find_elements()` with an `XPath` expression to locate all anchor `(<a>)` tags that have an `href` attribute. It then iterates through the list of elements, retrieving the value of each element's `href` attribute using `.get_attribute(\"href\")` method.  "
      ],
      "metadata": {
        "id": "poS_vn36zTEf"
      }
    },
    {
      "cell_type": "code",
      "source": [
        "    # Find all anchor tags with href attributes\n",
        "    links = driver.find_elements(By.XPATH, \"//a[@href]\")\n",
        "\n",
        "    # Extract and print the href attribute of each link\n",
        "    for link in links:\n",
        "        href = link.get_attribute(\"href\")\n",
        "        print(href)"
      ],
      "metadata": {
        "id": "nyz_hVxOt0Cz"
      },
      "execution_count": null,
      "outputs": []
    },
    {
      "cell_type": "markdown",
      "source": [
        "### 6. Housecleaning: Close the Driver  \n",
        "  \n",
        "We invoke the `driver`'s `.close()` method to close the dialog with the web server.  \n"
      ],
      "metadata": {
        "id": "lK1SckuPmPwM"
      }
    },
    {
      "cell_type": "code",
      "source": [
        "# Close the WebDriver\n",
        "driver.quit()"
      ],
      "metadata": {
        "id": "Thi171IXmiUb"
      },
      "execution_count": null,
      "outputs": []
    },
    {
      "cell_type": "markdown",
      "source": [
        "\n",
        "\n",
        "---\n",
        "\n"
      ],
      "metadata": {
        "id": "DPiwJHy10tuI"
      }
    },
    {
      "cell_type": "markdown",
      "source": [
        "## Exercises for Practice  \n",
        "\n",
        "Try solving these tasks to deepen your understanding:  \n",
        "\n",
        "1. Extract all paragraph (`<p>`) tags from the webpage.\n",
        "2. Extract elements from [Dr. Chuck's Page 2](http://www.dr-chuck.com/page2.htm)  "
      ],
      "metadata": {
        "id": "Mnhd-OHh0qtE"
      }
    },
    {
      "cell_type": "markdown",
      "source": [
        "\n",
        "\n",
        "---\n",
        "\n"
      ],
      "metadata": {
        "id": "JVQTMM280vFl"
      }
    },
    {
      "cell_type": "markdown",
      "source": [
        "## Summary  \n",
        "  \n",
        "In summary, while google-colab-selenium streamlines the setup process in Colab, it doesn't encompass all Selenium functionalities. Importing By directly from Selenium ensures you have access to the necessary methods for element location."
      ],
      "metadata": {
        "id": "uwo9PMWntvy3"
      }
    },
    {
      "cell_type": "markdown",
      "source": [
        "\n",
        "\n",
        "---\n",
        "\n"
      ],
      "metadata": {
        "id": "smiKs9mh0vwr"
      }
    },
    {
      "cell_type": "markdown",
      "source": [
        "\n",
        "\n",
        "---\n",
        "\n"
      ],
      "metadata": {
        "id": "YaA8OwnDmjZI"
      }
    }
  ]
}