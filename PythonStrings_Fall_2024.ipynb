{
  "cells": [
    {
      "cell_type": "markdown",
      "metadata": {
        "id": "view-in-github",
        "colab_type": "text"
      },
      "source": [
        "<a href=\"https://colab.research.google.com/github/ProfessorPatrickSlatraigh/CIS9650/blob/main/PythonStrings_Fall_2024.ipynb\" target=\"_parent\"><img src=\"https://colab.research.google.com/assets/colab-badge.svg\" alt=\"Open In Colab\"/></a>"
      ]
    },
    {
      "cell_type": "markdown",
      "source": [
        "<b>Strings in Python</b>   \n",
        "\n",
        "*from '30 Days of Python: Day 4 - Strings', [Asabeneh Yetayah, on Github](https://github.com/Asabeneh/30-Days-Of-Python/blob/master/04_Day_Strings/04_strings.md), July 2021*  "
      ],
      "metadata": {
        "id": "_zQgqFyYV9gg"
      },
      "id": "_zQgqFyYV9gg"
    },
    {
      "cell_type": "markdown",
      "source": [
        "#Contents"
      ],
      "metadata": {
        "id": "YOKjGNk9jUuK"
      },
      "id": "YOKjGNk9jUuK"
    },
    {
      "cell_type": "markdown",
      "source": [],
      "metadata": {
        "id": "OTAZHTNmj22b"
      },
      "id": "OTAZHTNmj22b"
    },
    {
      "cell_type": "markdown",
      "source": [
        "\n",
        "\n",
        "---\n",
        "\n"
      ],
      "metadata": {
        "id": "44vKskDoj2UJ"
      },
      "id": "44vKskDoj2UJ"
    },
    {
      "cell_type": "markdown",
      "source": [
        "##Strings\n",
        "\n",
        "Text is a string data type. Any data type written as text is a string. Any data under single, double or triple quote are strings. There are different string methods and built-in functions to deal with string data types. To check the length of a string use the len() method.\n"
      ],
      "metadata": {
        "id": "PItv6l9CNC6_"
      },
      "id": "PItv6l9CNC6_"
    },
    {
      "cell_type": "markdown",
      "source": [
        "###Creating a String"
      ],
      "metadata": {
        "id": "I7xyO1LYM7Sp"
      },
      "id": "I7xyO1LYM7Sp"
    },
    {
      "cell_type": "code",
      "source": [
        "\n",
        "letter = 'P'                # A string could be a single character or a bunch of texts\n",
        "print(letter)               # P\n",
        "print(len(letter))          # 1\n",
        "greeting = 'Hello, World!'  # String could be made using a single or double quote,\"Hello, World!\"\n",
        "print(greeting)             # Hello, World!\n",
        "print(len(greeting))        # 13\n",
        "sentence = \"I hope you are enjoying your day\"\n",
        "print(sentence)\n"
      ],
      "metadata": {
        "id": "8Dbef860M7su"
      },
      "id": "8Dbef860M7su",
      "execution_count": null,
      "outputs": []
    },
    {
      "cell_type": "code",
      "source": [
        "sentence = 'I hope you are enjoying your day?\"'\n",
        "print(sentence)"
      ],
      "metadata": {
        "id": "wY73kxTw9Bzk"
      },
      "id": "wY73kxTw9Bzk",
      "execution_count": null,
      "outputs": []
    },
    {
      "cell_type": "markdown",
      "source": [
        "Multiline string is created by using triple single (''') or triple double quotes (\"\"\"). See the example below.\n"
      ],
      "metadata": {
        "id": "G7Oy9jV3M2XI"
      },
      "id": "G7Oy9jV3M2XI"
    },
    {
      "cell_type": "code",
      "source": [
        "\n",
        "multiline_string = '''I am a fashion designer and enjoy sewing.\n",
        "I didn't find anything as rewarding as creating style.\n",
        "That is why I created my own fashion line.'''\n",
        "print(multiline_string)\n",
        "print()\n",
        "# Another way of doing the same thing\n",
        "multiline_string = \"\"\"I am a fashion designer and enjoy sewing.\n",
        "I didn't find anything as rewarding as creating style.\n",
        "That is why I created my own fashion line.\"\"\"\n",
        "print(multiline_string)\n"
      ],
      "metadata": {
        "id": "PwULb53fMy28"
      },
      "id": "PwULb53fMy28",
      "execution_count": null,
      "outputs": []
    },
    {
      "cell_type": "markdown",
      "source": [
        "### String Concatenation\n",
        "\n",
        "We can connect strings together. Merging or connecting strings is called concatenation. See the example below:\n"
      ],
      "metadata": {
        "id": "luPrNTTAMb-1"
      },
      "id": "luPrNTTAMb-1"
    },
    {
      "cell_type": "code",
      "source": [
        "\n",
        "first_name = 'Taylor'\n",
        "last_name = \"Swift\"\n",
        "space = ' '\n",
        "full_name = first_name  +  \" \" + last_name\n",
        "print(full_name) # Taylor Swift\n",
        "# Checking the length of a string using len() built-in function\n",
        "print(len(first_name))  # 6\n",
        "print(len(last_name))   # 5\n",
        "print(len(first_name) > len(last_name)) # True\n",
        "print(len(full_name)) # 11\n"
      ],
      "metadata": {
        "id": "A1cjmjUxMXqE"
      },
      "id": "A1cjmjUxMXqE",
      "execution_count": null,
      "outputs": []
    },
    {
      "cell_type": "markdown",
      "source": [
        "### Escape Sequences in Strings\n",
        "\n",
        "In Python and other programming languages \\ followed by a character is an escape sequence. Let us see the most common escape characters:\n",
        "\n",
        "- \\n: new line\n",
        "- \\t: Tab means(8 spaces)\n",
        "- \\\\\\\\: Back slash\n",
        "- \\\\': Single quote (')\n",
        "- \\\\\": Double quote (\")\n",
        "\n",
        "Now, let us see the use of the above escape sequences with examples.\n"
      ],
      "metadata": {
        "id": "olaZ3Z86MTQD"
      },
      "id": "olaZ3Z86MTQD"
    },
    {
      "cell_type": "code",
      "source": [
        "phrase = 'This isn\\'t a good example'\n",
        "print(phrase) # This isn't a good example"
      ],
      "metadata": {
        "id": "ZM4eSjsj-4ol"
      },
      "id": "ZM4eSjsj-4ol",
      "execution_count": null,
      "outputs": []
    },
    {
      "cell_type": "code",
      "source": [
        "\n",
        "print('I hope everyone is enjoying the Python stringObject.\\nAre you ?') # line break\n",
        "print('Days\\tTopics\\tExercises') # adding tab space or 4 spaces\n",
        "print('Day 1\\t5\\t5')\n",
        "print('Day 2\\t6\\t20')\n",
        "print('Day 3\\t5\\t23')\n",
        "print('Day 4\\t1\\t35')\n",
        "print('This is a backslash  symbol (\\\\)') # To write a backslash\n",
        "print('In every programming language it starts with \\\"Hello, World!\\\"') # to write a double quote inside a single quote\n"
      ],
      "metadata": {
        "id": "daScWMsAMNGh"
      },
      "id": "daScWMsAMNGh",
      "execution_count": null,
      "outputs": []
    },
    {
      "cell_type": "markdown",
      "source": [
        "<b><u>Output</b></u>  \n",
        "```\n",
        "I hope every one is enjoying the Python stringObject.\n",
        "Are you ?\n",
        "Days\tTopics\tExercises\n",
        "Day 1\t5\t    5\n",
        "Day 2\t6\t    20\n",
        "Day 3\t5\t    23\n",
        "Day 4\t1\t    35\n",
        "This is a backslash  symbol (\\)\n",
        "In every programming language it starts with \"Hello, World!\"\n",
        "```"
      ],
      "metadata": {
        "id": "h_hDjXjWlGXU"
      },
      "id": "h_hDjXjWlGXU"
    },
    {
      "cell_type": "markdown",
      "source": [
        "### String Formatting"
      ],
      "metadata": {
        "id": "z9TWYyPrMERd"
      },
      "id": "z9TWYyPrMERd"
    },
    {
      "cell_type": "markdown",
      "source": [
        "### <font color=red>No need to learn the old way...</font>"
      ],
      "metadata": {
        "id": "Hkx5_-qrRahO"
      },
      "id": "Hkx5_-qrRahO"
    },
    {
      "cell_type": "markdown",
      "source": [
        "#### Old Style String Formatting  \n",
        "`(% Operator)`\n",
        "\n",
        "In Python there are many ways of formatting strings. In this section, we will cover some of them.\n",
        "The \"%\" operator is used to format a set of variables enclosed in a \"tuple\" (a fixed size list), together with a format string, which contains normal text together with \"argument specifiers\", special symbols like \"%s\", \"%d\", \"%f\", \"%.<small>number of digits</small>f\".\n",
        "\n",
        "- %s - String (or any object with a string representation, like numbers)\n",
        "- %d - Integers\n",
        "- %f - Floating point numbers\n",
        "- \"%.<small>number of digits</small>f\" - Floating point numbers with fixed precision\n"
      ],
      "metadata": {
        "id": "TbARLRhYL_su"
      },
      "id": "TbARLRhYL_su"
    },
    {
      "cell_type": "code",
      "source": [
        "\n",
        "# Strings only\n",
        "first_name = 'Taylor'\n",
        "last_name = 'Swift'\n",
        "language = 'Python'\n",
        "formated_string = 'I am %s %s. I teach %s' %(first_name, last_name, language)\n",
        "print(formated_string)\n",
        "\n",
        "# Strings  and numbers\n",
        "radius = 10\n",
        "pi = 3.14\n",
        "area = pi * radius ** 2\n",
        "formated_string = 'The area of circle with a radius %d is %.2f.' %(radius, area) # 2 refers the 2 significant digits after the point\n",
        "\n",
        "python_libraries = ['Django', 'Flask', 'NumPy', 'Matplotlib','Pandas']\n",
        "formated_string = 'The following are python libraries:%s' % (python_libraries)\n",
        "print(formated_string) # \"The following are python libraries:['Django', 'Flask', 'NumPy', 'Matplotlib','Pandas']\"\n"
      ],
      "metadata": {
        "id": "Tf80vXFuL5Yh"
      },
      "id": "Tf80vXFuL5Yh",
      "execution_count": null,
      "outputs": []
    },
    {
      "cell_type": "markdown",
      "source": [
        "###   "
      ],
      "metadata": {
        "id": "hIyE2MsFRvfb"
      },
      "id": "hIyE2MsFRvfb"
    },
    {
      "cell_type": "markdown",
      "source": [
        "\n",
        "#### String Interpolation\n",
        "*or f-Strings (Python 3.6+)*\n",
        "\n",
        "A new string formatting since release 3.6 is string interpolation, `f-strings`. Strings start with f and we can inject the data in their corresponding positions.\n",
        "\n"
      ],
      "metadata": {
        "id": "Q_bJsvqyLgjk"
      },
      "id": "Q_bJsvqyLgjk"
    },
    {
      "cell_type": "code",
      "source": [
        "\n",
        "a = 4\n",
        "b = 3\n",
        "print(f'{a} + {b} = {a + b}')\n",
        "print(f'{a} - {b} = {a - b}')\n",
        "print(f'{a} * {b} = {a * b}')\n",
        "print(f'{a} / {b} = {a / b:.2f}')\n",
        "print(f'{a} % {b} = {a % b}')\n",
        "print(f'{a} // {b} = {a // b}')\n",
        "print(f'{a} ** {b} = {a ** b}')\n"
      ],
      "metadata": {
        "id": "QeeliWb0Lbm-"
      },
      "id": "QeeliWb0Lbm-",
      "execution_count": null,
      "outputs": []
    },
    {
      "cell_type": "markdown",
      "source": [
        "### Python Strings as Sequences of Characters\n",
        "\n",
        "Python strings are sequences of characters, and share their basic methods of access with other Python ordered sequences of objects – lists and tuples. The simplest way of extracting single characters from strings (and individual members from any sequence) is to unpack them into corresponding variables.\n",
        "\n"
      ],
      "metadata": {
        "id": "94LfHjdYLSbr"
      },
      "id": "94LfHjdYLSbr"
    },
    {
      "cell_type": "markdown",
      "source": [
        "#### Unpacking Characters"
      ],
      "metadata": {
        "id": "BaaFwEWXLPvU"
      },
      "id": "BaaFwEWXLPvU"
    },
    {
      "cell_type": "code",
      "source": [
        "\n",
        "language = 'Python'\n",
        "a,b,c,d,e,f = language # unpacking sequence characters into variables\n",
        "print(a) # P\n",
        "print(b) # y\n",
        "print(c) # t\n",
        "print(d) # h\n",
        "print(e) # o\n",
        "print(f) # n\n"
      ],
      "metadata": {
        "id": "uFNI-qLQLKT1"
      },
      "id": "uFNI-qLQLKT1",
      "execution_count": null,
      "outputs": []
    },
    {
      "cell_type": "markdown",
      "source": [
        "#### Accessing Characters in Strings by Index\n",
        "\n",
        "In programming counting starts from zero. Therefore the first letter of a string is at zero index and the last letter of a string is the length of a string minus one."
      ],
      "metadata": {
        "id": "5am8V51kLAFq"
      },
      "id": "5am8V51kLAFq"
    },
    {
      "cell_type": "markdown",
      "source": [
        "![StringSequence.png](data:image/png;base64,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)"
      ],
      "metadata": {
        "id": "ihWiJm0QK339"
      },
      "id": "ihWiJm0QK339"
    },
    {
      "cell_type": "code",
      "source": [
        "\n",
        "language = 'Python'\n",
        "first_letter = language[0]\n",
        "print(first_letter) # P\n",
        "second_letter = language[1]\n",
        "print(second_letter) # y\n",
        "last_index = len(language) - 1\n",
        "last_letter = language[last_index]\n",
        "print(last_letter) # n\n"
      ],
      "metadata": {
        "id": "uRI5GcoHK1Mz"
      },
      "id": "uRI5GcoHK1Mz",
      "execution_count": null,
      "outputs": []
    },
    {
      "cell_type": "markdown",
      "source": [
        "If we want to start from the right end we can use negative indexing. -1 is the last index."
      ],
      "metadata": {
        "id": "UF78gOMHKloY"
      },
      "id": "UF78gOMHKloY"
    },
    {
      "cell_type": "code",
      "source": [
        "\n",
        "language = 'Python'\n",
        "last_letter = language[-1]\n",
        "print(last_letter) # n\n",
        "second_last = language[-2]\n",
        "print(second_last) # o\n"
      ],
      "metadata": {
        "id": "p2UVUqxVKhDv"
      },
      "id": "p2UVUqxVKhDv",
      "execution_count": null,
      "outputs": []
    },
    {
      "cell_type": "markdown",
      "source": [
        "#### Slicing Python Strings\n"
      ],
      "metadata": {
        "id": "YBrENLAPKbRC"
      },
      "id": "YBrENLAPKbRC"
    },
    {
      "cell_type": "markdown",
      "source": [
        "In python we can slice strings into substrings."
      ],
      "metadata": {
        "id": "RC5GfKbulhnp"
      },
      "id": "RC5GfKbulhnp"
    },
    {
      "cell_type": "code",
      "source": [
        "\n",
        "language = 'Python'\n",
        "first_three = language[0:3] # starts at zero index and up to 3 but not include 3\n",
        "print(first_three) #Pyt\n",
        "last_three = language[3:6]\n",
        "print(last_three) # hon\n",
        "# Another way\n",
        "last_three = language[-3:]\n",
        "print(last_three)   # hon\n",
        "last_three = language[3:]\n",
        "print(last_three)   # hon\n",
        "\n"
      ],
      "metadata": {
        "id": "32K-00rUKYFS"
      },
      "id": "32K-00rUKYFS",
      "execution_count": null,
      "outputs": []
    },
    {
      "cell_type": "markdown",
      "source": [
        "#### Reversing a String\n",
        "\n",
        "We can easily reverse strings in python.\n"
      ],
      "metadata": {
        "id": "mIqNJHDsKTTd"
      },
      "id": "mIqNJHDsKTTd"
    },
    {
      "cell_type": "code",
      "source": [
        "\n",
        "greeting = 'Hello, World!'\n",
        "print(greeting[::-1]) # !dlroW ,olleH\n"
      ],
      "metadata": {
        "id": "rmK1BVKQKPe5"
      },
      "id": "rmK1BVKQKPe5",
      "execution_count": null,
      "outputs": []
    },
    {
      "cell_type": "markdown",
      "source": [
        "#### Skipping Characters While Slicing\n",
        "\n",
        "It is possible to skip characters while slicing by passing step argument to slice method.\n",
        "\n"
      ],
      "metadata": {
        "id": "D9aHNM8EJ_IZ"
      },
      "id": "D9aHNM8EJ_IZ"
    },
    {
      "cell_type": "code",
      "source": [
        "\n",
        "language = 'Python'\n",
        "pto = language[0:6:2] #\n",
        "print(pto) # Pto\n"
      ],
      "metadata": {
        "id": "gy2cQ2HJJ4TB"
      },
      "id": "gy2cQ2HJJ4TB",
      "execution_count": null,
      "outputs": []
    },
    {
      "cell_type": "markdown",
      "source": [
        "\n",
        "\n",
        "---\n",
        "\n"
      ],
      "metadata": {
        "id": "ZQEiXZTLJ5TP"
      },
      "id": "ZQEiXZTLJ5TP"
    },
    {
      "cell_type": "markdown",
      "source": [
        "### String Methods\n",
        "\n",
        "There are many string methods which allow us to format strings. See some of the string methods in the following example:\n"
      ],
      "metadata": {
        "id": "jufxPvvRJuj-"
      },
      "id": "jufxPvvRJuj-"
    },
    {
      "cell_type": "markdown",
      "source": [
        "#### String Methods - *Formatting*"
      ],
      "metadata": {
        "id": "46qlEMiMO2I9"
      },
      "id": "46qlEMiMO2I9"
    },
    {
      "cell_type": "markdown",
      "source": [
        "- strip(): Removes all given characters starting from the beginning and end of the string"
      ],
      "metadata": {
        "id": "4kTRaaYFeGCq"
      },
      "id": "4kTRaaYFeGCq"
    },
    {
      "cell_type": "code",
      "source": [
        "\n",
        "stringObject ='thirty days of pythoonnn'\n",
        "print(stringObject.strip('noth')) # 'irty days of py'\n"
      ],
      "metadata": {
        "id": "XrRlnmeXeC1a"
      },
      "id": "XrRlnmeXeC1a",
      "execution_count": null,
      "outputs": []
    },
    {
      "cell_type": "markdown",
      "source": [
        "- lower(): Converts the characters of the string to lower case"
      ],
      "metadata": {
        "id": "BF8aGcBQQmEy"
      },
      "id": "BF8aGcBQQmEy"
    },
    {
      "cell_type": "code",
      "source": [
        "\n",
        "stringObject ='Thirty Days of Python'\n",
        "print(stringObject.lower()) # 'thirty days of python'\n"
      ],
      "metadata": {
        "id": "AsCKqgsSQxCi"
      },
      "id": "AsCKqgsSQxCi",
      "execution_count": null,
      "outputs": []
    },
    {
      "cell_type": "markdown",
      "source": [
        "- upper(): Converts the characters of the string to UPPER CASE"
      ],
      "metadata": {
        "id": "u_TTx2BmQ2mt"
      },
      "id": "u_TTx2BmQ2mt"
    },
    {
      "cell_type": "code",
      "source": [
        "\n",
        "stringObject ='Thirty days of python'\n",
        "print(stringObject.upper()) # 'THIRTY DAYS OF PYTHON'\n"
      ],
      "metadata": {
        "id": "5EFABwczRAEA"
      },
      "id": "5EFABwczRAEA",
      "execution_count": null,
      "outputs": []
    },
    {
      "cell_type": "markdown",
      "source": [
        "- capitalize(): Converts the first character of the string to capital letter"
      ],
      "metadata": {
        "id": "aROhCfddJqCF"
      },
      "id": "aROhCfddJqCF"
    },
    {
      "cell_type": "code",
      "source": [
        "\n",
        "stringObject ='thirty days of python'\n",
        "print(stringObject.capitalize()) # 'Thirty days of python'\n"
      ],
      "metadata": {
        "id": "UIGJQcceJli1"
      },
      "id": "UIGJQcceJli1",
      "execution_count": null,
      "outputs": []
    },
    {
      "cell_type": "markdown",
      "source": [
        "- title(): Returns a title cased string"
      ],
      "metadata": {
        "id": "YTvLbI8NYzuu"
      },
      "id": "YTvLbI8NYzuu"
    },
    {
      "cell_type": "code",
      "source": [
        "\n",
        "stringObject ='thirty days of python'\n",
        "print(stringObject.title()) # Thirty Days Of Python\n"
      ],
      "metadata": {
        "id": "cAQqq8zMYwiN"
      },
      "id": "cAQqq8zMYwiN",
      "execution_count": null,
      "outputs": []
    },
    {
      "cell_type": "markdown",
      "source": [
        "- swapcase(): Converts all uppercase characters to lowercase and all lowercase characters to uppercase characters"
      ],
      "metadata": {
        "id": "rdlj6jAzYrwR"
      },
      "id": "rdlj6jAzYrwR"
    },
    {
      "cell_type": "code",
      "source": [
        "\n",
        "stringObject ='thirty days of python'\n",
        "print(stringObject.swapcase())   # THIRTY DAYS OF PYTHON\n",
        "stringObject ='Thirty Days Of Python'\n",
        "print(stringObject.swapcase())  # tHIRTY dAYS oF pYTHON\n"
      ],
      "metadata": {
        "id": "qNevm-3jYoBg"
      },
      "id": "qNevm-3jYoBg",
      "execution_count": null,
      "outputs": []
    },
    {
      "cell_type": "markdown",
      "source": [
        "- expandtabs(): Replaces tab character with spaces, default tab size is 8. It takes tab size argument"
      ],
      "metadata": {
        "id": "W14wpCMvJM0q"
      },
      "id": "W14wpCMvJM0q"
    },
    {
      "cell_type": "code",
      "source": [
        "\n",
        "stringObject ='thirty\\tdays\\tof\\tpython'\n",
        "print(stringObject.expandtabs())   # 'thirty  days    of      python'\n",
        "print(stringObject.expandtabs(10)) # 'thirty    days      of        python'\n"
      ],
      "metadata": {
        "id": "rKHlZmnwJJuu"
      },
      "id": "rKHlZmnwJJuu",
      "execution_count": null,
      "outputs": []
    },
    {
      "cell_type": "markdown",
      "source": [
        "- format(): formats string into a nicer output  \n",
        "   More about string formatting check this [link](https://www.programiz.com/python-programming/methods/string/format)"
      ],
      "metadata": {
        "id": "JAubHbWrIpDX"
      },
      "id": "JAubHbWrIpDX"
    },
    {
      "cell_type": "code",
      "source": [
        "\n",
        "first_name = 'Taylor'\n",
        "last_name = 'Swift'\n",
        "age = 250\n",
        "job = 'teacher'\n",
        "country = 'Finland'\n",
        "sentence = 'I am {} {}. I am a {}. I am {} years old. I live in {}.'.format(first_name, last_name, age, job, country)\n",
        "print(sentence) # I am Taylor Swift. I am 250 years old. I am a teacher. I live in Finland.\n",
        "\n",
        "radius = 10\n",
        "pi = 3.14\n",
        "area = pi * radius ** 2\n",
        "result = 'The area of a circle with radius {} is {}'.format(str(radius), str(area))\n",
        "print(result) # The area of a circle with radius 10 is 314\n"
      ],
      "metadata": {
        "id": "HftT9CIVIdsi"
      },
      "id": "HftT9CIVIdsi",
      "execution_count": null,
      "outputs": []
    },
    {
      "cell_type": "markdown",
      "source": [
        "#### String Methods - *Evaluation*  "
      ],
      "metadata": {
        "id": "5ZvfT89SPfP7"
      },
      "id": "5ZvfT89SPfP7"
    },
    {
      "cell_type": "markdown",
      "source": [
        "- count(): returns occurrences of substring in string, count(substring, start=.., end=..). The start is a starting indexing for counting and end is the last index to count."
      ],
      "metadata": {
        "id": "oMXNWo9GJhX9"
      },
      "id": "oMXNWo9GJhX9"
    },
    {
      "cell_type": "code",
      "source": [
        "\n",
        "stringObject ='thirty days of python'\n",
        "print(stringObject.count('y')) # 3\n",
        "print(stringObject.count('y', 7, 14)) # 1,\n",
        "print(stringObject.count('th')) # 2`\n"
      ],
      "metadata": {
        "id": "YlfJoB1eJbss"
      },
      "id": "YlfJoB1eJbss",
      "execution_count": null,
      "outputs": []
    },
    {
      "cell_type": "markdown",
      "source": [
        "#### String Methods - *Search*  "
      ],
      "metadata": {
        "id": "RfJRnoDQPWHe"
      },
      "id": "RfJRnoDQPWHe"
    },
    {
      "cell_type": "markdown",
      "source": [
        "- endswith(): Checks if a string ends with a specified ending"
      ],
      "metadata": {
        "id": "QaW5G1rzJTuu"
      },
      "id": "QaW5G1rzJTuu"
    },
    {
      "cell_type": "code",
      "source": [
        "\n",
        "stringObject ='thirty days of python'\n",
        "print(stringObject.endswith('on'))   # True\n",
        "print(stringObject.endswith('tion')) # False\n"
      ],
      "metadata": {
        "id": "2HbJwmdSJP65"
      },
      "id": "2HbJwmdSJP65",
      "execution_count": null,
      "outputs": []
    },
    {
      "cell_type": "markdown",
      "source": [
        "- find(): Returns the index of the first occurrence of a substring, if not found returns -1"
      ],
      "metadata": {
        "id": "9Qzzj6k1I8uZ"
      },
      "id": "9Qzzj6k1I8uZ"
    },
    {
      "cell_type": "code",
      "source": [
        "\n",
        "stringObject ='thirty days of python'\n",
        "print(stringObject.find('y'))  # 5\n",
        "print(stringObject.find('th')) # 0\n"
      ],
      "metadata": {
        "id": "cCTJl1chI5ot"
      },
      "id": "cCTJl1chI5ot",
      "execution_count": null,
      "outputs": []
    },
    {
      "cell_type": "markdown",
      "source": [
        "- rfind(): Returns the index of the last occurrence of a substring, if not found returns -1"
      ],
      "metadata": {
        "id": "EMNjvGcjI0xQ"
      },
      "id": "EMNjvGcjI0xQ"
    },
    {
      "cell_type": "code",
      "source": [
        "\n",
        "stringObject ='thirty days of python'\n",
        "print(stringObject.rfind('y'))  # 16\n",
        "print(stringObject.rfind('th')) # 17\n"
      ],
      "metadata": {
        "id": "-b49AT7sIv62"
      },
      "id": "-b49AT7sIv62",
      "execution_count": null,
      "outputs": []
    },
    {
      "cell_type": "markdown",
      "source": [
        "- index(): Returns the lowest index of a substring, additional arguments indicate starting and ending index (default 0 and string length - 1). If the substring is not found it raises a valueError.\n"
      ],
      "metadata": {
        "id": "aWWLgeavIYso"
      },
      "id": "aWWLgeavIYso"
    },
    {
      "cell_type": "code",
      "source": [
        "\n",
        "stringObject ='thirty days of python'\n",
        "sub_string = 'da'\n",
        "print(stringObject.index(sub_string,))  # 7\n"
      ],
      "metadata": {
        "id": "1mGYLBbJ_QHA"
      },
      "id": "1mGYLBbJ_QHA",
      "execution_count": null,
      "outputs": []
    },
    {
      "cell_type": "code",
      "source": [
        "print(stringObject.index(sub_string, 9)) # error"
      ],
      "metadata": {
        "id": "3iWYZn4lF6W_"
      },
      "id": "3iWYZn4lF6W_",
      "execution_count": null,
      "outputs": []
    },
    {
      "cell_type": "markdown",
      "source": [
        "- rindex(): Returns the highest index of a substring, additional arguments indicate starting and ending index (default 0 and string length - 1)"
      ],
      "metadata": {
        "id": "Uc6Y-b6Q_F8Z"
      },
      "id": "Uc6Y-b6Q_F8Z"
    },
    {
      "cell_type": "code",
      "source": [
        "\n",
        "stringObject ='thirty days of python'\n",
        "sub_string = 'da'\n",
        "print(stringObject.rindex(sub_string))  # 7\n",
        "print(stringObject.rindex('on', 8)) # 19\n"
      ],
      "metadata": {
        "id": "n87hlfm4_C9T"
      },
      "id": "n87hlfm4_C9T",
      "execution_count": null,
      "outputs": []
    },
    {
      "cell_type": "code",
      "source": [
        "print(stringObject.rindex(sub_string, 9)) # error"
      ],
      "metadata": {
        "id": "aGln4_2eF_Ps"
      },
      "id": "aGln4_2eF_Ps",
      "execution_count": null,
      "outputs": []
    },
    {
      "cell_type": "markdown",
      "source": [
        "#### String Methods - *Boolean*"
      ],
      "metadata": {
        "id": "LaJzgjdKPBh1"
      },
      "id": "LaJzgjdKPBh1"
    },
    {
      "cell_type": "markdown",
      "source": [
        "- startswith(): Checks if String Starts with the Specified String"
      ],
      "metadata": {
        "id": "Eh0lJPYjYegd"
      },
      "id": "Eh0lJPYjYegd"
    },
    {
      "cell_type": "code",
      "source": [
        "\n",
        "stringObject ='thirty days of python'\n",
        "print(stringObject.startswith('thirty')) # True\n",
        "\n",
        "stringObject ='30 days of python'\n",
        "print(stringObject.startswith('thirty')) # False\n"
      ],
      "metadata": {
        "id": "Ow568Ro8Yaon"
      },
      "id": "Ow568Ro8Yaon",
      "execution_count": null,
      "outputs": []
    },
    {
      "cell_type": "markdown",
      "source": [
        "- isalnum(): Checks alphanumeric character"
      ],
      "metadata": {
        "id": "rnsZS1Hf-8pF"
      },
      "id": "rnsZS1Hf-8pF"
    },
    {
      "cell_type": "code",
      "source": [
        "\n",
        "stringObject ='ThirtyDaysPython'\n",
        "print(stringObject.isalnum()) # True\n",
        "\n",
        "stringObject ='30DaysPython'\n",
        "print(stringObject.isalnum()) # True\n",
        "\n",
        "stringObject ='thirty days of python'\n",
        "print(stringObject.isalnum()) # False, space is not an alphanumeric character\n",
        "\n",
        "stringObject ='thirty days of python 2019'\n",
        "print(stringObject.isalnum()) # False\n"
      ],
      "metadata": {
        "id": "pnL14TNf-50e"
      },
      "id": "pnL14TNf-50e",
      "execution_count": null,
      "outputs": []
    },
    {
      "cell_type": "markdown",
      "source": [
        "- isalpha(): Checks if all string elements are alphabet characters (a-z and A-Z)"
      ],
      "metadata": {
        "id": "Qz0O_wFW-08l"
      },
      "id": "Qz0O_wFW-08l"
    },
    {
      "cell_type": "code",
      "source": [
        "\n",
        "stringObject ='thirty days of python'\n",
        "print(stringObject.isalpha()) # False, space is once again excluded\n",
        "stringObject ='ThirtyDaysPython'\n",
        "print(stringObject.isalpha()) # True\n",
        "num = '123'\n",
        "print(num.isalpha())      # False\n"
      ],
      "metadata": {
        "id": "Ct2J7Usz-x9x"
      },
      "id": "Ct2J7Usz-x9x",
      "execution_count": null,
      "outputs": []
    },
    {
      "cell_type": "markdown",
      "source": [
        "- isdecimal(): Checks if all characters in a string are decimal (0-9)"
      ],
      "metadata": {
        "id": "F70PNCBb-tNf"
      },
      "id": "F70PNCBb-tNf"
    },
    {
      "cell_type": "code",
      "source": [
        "\n",
        "stringObject ='thirty days of python'\n",
        "print(stringObject.isdecimal())  # False\n",
        "stringObject ='123'\n",
        "print(stringObject.isdecimal())  # True\n",
        "stringObject ='\\u00B2'\n",
        "print(stringObject.isdigit())   # False\n",
        "stringObject ='12 3'\n",
        "print(stringObject.isdecimal())  # False, space not allowed\n"
      ],
      "metadata": {
        "id": "TbIBAmsB-p5E"
      },
      "id": "TbIBAmsB-p5E",
      "execution_count": null,
      "outputs": []
    },
    {
      "cell_type": "markdown",
      "source": [
        "- isdigit(): Checks if all characters in a string are numbers (0-9 and some other unicode characters for numbers)"
      ],
      "metadata": {
        "id": "Y8rFYrNIe3qo"
      },
      "id": "Y8rFYrNIe3qo"
    },
    {
      "cell_type": "code",
      "source": [
        "\n",
        "stringObject ='Thirty'\n",
        "print(stringObject.isdigit()) # False\n",
        "stringObject ='30'\n",
        "print(stringObject.isdigit())   # True\n",
        "stringObject ='\\u00B2'\n",
        "print(stringObject.isdigit())   # True\n"
      ],
      "metadata": {
        "id": "X-38YsaXe0ma"
      },
      "id": "X-38YsaXe0ma",
      "execution_count": null,
      "outputs": []
    },
    {
      "cell_type": "markdown",
      "source": [
        "- isnumeric(): Checks if all characters in a string are numbers or number related (just like isdigit(), just accepts more symbols, like ½)"
      ],
      "metadata": {
        "id": "rIoYpp_yexCZ"
      },
      "id": "rIoYpp_yexCZ"
    },
    {
      "cell_type": "code",
      "source": [
        "\n",
        "num = '10'\n",
        "print(num.isnumeric()) # True\n",
        "num = '\\u00BD' # ½\n",
        "print(num.isnumeric()) # True\n",
        "num = '10.5'\n",
        "print(num.isnumeric()) # False\n"
      ],
      "metadata": {
        "id": "CXFQCIYIet3E"
      },
      "id": "CXFQCIYIet3E",
      "execution_count": null,
      "outputs": []
    },
    {
      "cell_type": "markdown",
      "source": [
        "- isidentifier(): Checks for a valid identifier - it checks if a string is a valid variable name"
      ],
      "metadata": {
        "id": "MYVv-hYGeqp3"
      },
      "id": "MYVv-hYGeqp3"
    },
    {
      "cell_type": "code",
      "source": [
        "\n",
        "stringObject ='30DaysOfPython'\n",
        "print(stringObject.isidentifier()) # False, because it starts with a number\n",
        "stringObject ='thirty_days_of_python'\n",
        "print(stringObject.isidentifier()) # True\n"
      ],
      "metadata": {
        "id": "mGrPwABNempp"
      },
      "id": "mGrPwABNempp",
      "execution_count": null,
      "outputs": []
    },
    {
      "cell_type": "markdown",
      "source": [
        "- islower(): Checks if all alphabet characters in the string are lowercase"
      ],
      "metadata": {
        "id": "XMUthoeOeiqd"
      },
      "id": "XMUthoeOeiqd"
    },
    {
      "cell_type": "code",
      "source": [
        "\n",
        "stringObject ='thirty days of python'\n",
        "print(stringObject.islower()) # True\n",
        "stringObject ='Thirty days of python'\n",
        "print(stringObject.islower()) # False\n"
      ],
      "metadata": {
        "id": "CCq7DpJrecw8"
      },
      "id": "CCq7DpJrecw8",
      "execution_count": null,
      "outputs": []
    },
    {
      "cell_type": "markdown",
      "source": [
        "- isupper(): Checks if all alphabet characters in the string are uppercase"
      ],
      "metadata": {
        "id": "B8jcFu1XeY-3"
      },
      "id": "B8jcFu1XeY-3"
    },
    {
      "cell_type": "code",
      "source": [
        "\n",
        "stringObject ='thirty days of python'\n",
        "print(stringObject.isupper()) #  False\n",
        "stringObject ='THIRTY DAYS OF PYTHON'\n",
        "print(stringObject.isupper()) # True\n"
      ],
      "metadata": {
        "id": "dtk3SGeVeV0j"
      },
      "id": "dtk3SGeVeV0j",
      "execution_count": null,
      "outputs": []
    },
    {
      "cell_type": "markdown",
      "source": [
        "#### String Methods - *Slice and Set Operations*"
      ],
      "metadata": {
        "id": "xQr7JAn8PIto"
      },
      "id": "xQr7JAn8PIto"
    },
    {
      "cell_type": "markdown",
      "source": [
        "- join(): Returns a concatenated string"
      ],
      "metadata": {
        "id": "7MqY8byCeROA"
      },
      "id": "7MqY8byCeROA"
    },
    {
      "cell_type": "code",
      "source": [
        "\n",
        "web_tech = ['HTML', 'CSS', 'JavaScript', 'React']\n",
        "result = ' '.join(web_tech)\n",
        "print(result) # 'HTML CSS JavaScript React'\n"
      ],
      "metadata": {
        "id": "k98oyVyFeNgs"
      },
      "id": "k98oyVyFeNgs",
      "execution_count": null,
      "outputs": []
    },
    {
      "cell_type": "code",
      "source": [
        "\n",
        "web_tech = ['HTML', 'CSS', 'JavaScript', 'React']\n",
        "result = '#*#'.join(web_tech)\n",
        "print(result) # 'HTML# CSS# JavaScript# React'\n"
      ],
      "metadata": {
        "id": "zNvUs0YYl4iy"
      },
      "id": "zNvUs0YYl4iy",
      "execution_count": null,
      "outputs": []
    },
    {
      "cell_type": "markdown",
      "source": [
        "- replace(): Replaces substring with a given string"
      ],
      "metadata": {
        "id": "cB1wTsE8d9Xm"
      },
      "id": "cB1wTsE8d9Xm"
    },
    {
      "cell_type": "code",
      "source": [
        "\n",
        "stringObject ='thirty days of python'\n",
        "print(stringObject.replace('python', 'coding')) # 'thirty days of coding'\n"
      ],
      "metadata": {
        "id": "Syfl4sHod4vZ"
      },
      "id": "Syfl4sHod4vZ",
      "execution_count": null,
      "outputs": []
    },
    {
      "cell_type": "markdown",
      "source": [
        "- split(): Splits the string, using given string or space as a separator\n"
      ],
      "metadata": {
        "id": "IlSmuQCbY8cS"
      },
      "id": "IlSmuQCbY8cS"
    },
    {
      "cell_type": "code",
      "source": [
        "\n",
        "stringObject ='thirty days of python'\n",
        "print(stringObject.split()) # ['thirty', 'days', 'of', 'python']\n",
        "stringObject ='thirty, days, of, python'\n",
        "print(stringObject.split(', ')) # ['thirty', 'days', 'of', 'python']\n"
      ],
      "metadata": {
        "id": "LBwFqIH3Y5h0"
      },
      "id": "LBwFqIH3Y5h0",
      "execution_count": null,
      "outputs": []
    },
    {
      "cell_type": "markdown",
      "source": [
        "\n",
        "\n",
        "---\n",
        "\n"
      ],
      "metadata": {
        "id": "ArSiRu20XPUR"
      },
      "id": "ArSiRu20XPUR"
    },
    {
      "cell_type": "markdown",
      "source": [
        "\n",
        "## 💻 Exercises - Strings\n",
        "\n",
        "1. Concatenate the string 'Thirty', 'Days', 'Of', 'Python' to a single string, 'Thirty Days Of Python'.\n",
        "2. Concatenate the string 'Coding', 'For' , 'All' to a single string, 'Coding For All'.\n",
        "3. Declare a variable named company and assign it to an initial value \"Coding For All\".\n",
        "4. Print the variable company using _print()_.\n",
        "5. Print the length of the company string using _len()_ method and _print()_.\n",
        "6. Change all the characters to uppercase letters using _upper()_ method.\n",
        "7. Change all the characters to lowercase letters using _lower()_ method.\n",
        "8. Use capitalize(), title(), swapcase() methods to format the value of the string _Coding For All_.\n",
        "9. Cut(slice) out the first word of _Coding For All_ string.\n",
        "10. Check if _Coding For All_ string contains a word Coding using the method index, find or other methods.\n",
        "11. Replace the word coding in the string 'Coding For All' to Python.\n",
        "12. Change Python for Everyone to Python for All using the replace method or other methods.\n",
        "13. Split the string 'Coding For All' using space as the separator (split()) .\n",
        "14. \"Facebook, Google, Microsoft, Apple, IBM, Oracle, Amazon\" split the string at the comma.\n",
        "15. What is the character at index 0 in the string _Coding For All_.\n",
        "16. What is the last index of the string _Coding For All_.\n",
        "17. What character is at index 10 in \"Coding For All\" string.\n",
        "18. Create an acronym or an abbreviation for the name 'Python For Everyone'.\n",
        "19. Create an acronym or an abbreviation for the name 'Coding For All'.\n",
        "20. Use index to determine the position of the first occurrence of C in Coding For All.\n",
        "21. Use index to determine the position of the first occurrence of F in Coding For All.\n",
        "22. Use rfind to determine the position of the last occurrence of l in Coding For All People.\n",
        "23. Use index or find to find the position of the first occurrence of the word 'because' in the following sentence: 'You cannot end a sentence with because because because is a conjunction'\n",
        "24. Use rindex to find the position of the last occurrence of the word because in the following sentence: 'You cannot end a sentence with because because because is a conjunction'\n",
        "25. Slice out the phrase 'because because because' in the following sentence: 'You cannot end a sentence with because because because is a conjunction'\n",
        "26. Find the position of the first occurrence of the word 'because' in the following sentence: 'You cannot end a sentence with because because because is a conjunction'\n",
        "27. Slice out the phrase 'because because because' in the following sentence: 'You cannot end a sentence with because because because is a conjunction'\n",
        "28. Does '\\'Coding For All' start with a substring _Coding_?\n",
        "29. Does 'Coding For All' end with a substring _coding_?\n",
        "30. '&nbsp;&nbsp; Coding For All &nbsp;&nbsp;&nbsp; &nbsp;' &nbsp;, remove the left and right trailing spaces in the given string.\n",
        "31. Which one of the following variables return True when we use the method isidentifier():\n",
        "    - 30DaysOfPython\n",
        "    - thirty_days_of_python\n",
        "32. The following list contains the names of some of python libraries: ['Django', 'Flask', 'Bottle', 'Pyramid', 'Falcon']. Join the list with a hash with space string.\n",
        "33. Use the new line escape sequence to separate the following sentences.\n",
        "    \n",
        "    I am enjoying this stringObject.\n",
        "    I just wonder what is next.\n",
        "    \n",
        "34. Use a tab escape sequence to write the following lines.\n",
        "    \n",
        "    Name      Age     Country   City\n",
        "    Taylor  250     Finland   Helsinki\n",
        "    \n",
        "35. Use the string formatting method to display the following:"
      ],
      "metadata": {
        "id": "oKCK7T4LXN6j"
      },
      "id": "oKCK7T4LXN6j"
    },
    {
      "cell_type": "markdown",
      "source": [
        "```\n",
        "radius = 10\n",
        "area = 3.14 * radius ** 2\n",
        "The area of a circle with radius 10 is 314 meters square.\n",
        "```"
      ],
      "metadata": {
        "id": "U2q_HJa7mEDf"
      },
      "id": "U2q_HJa7mEDf"
    },
    {
      "cell_type": "markdown",
      "id": "1cbbbe9f",
      "metadata": {
        "id": "1cbbbe9f"
      },
      "source": [
        "36. Make the following using string formatting methods:"
      ]
    },
    {
      "cell_type": "markdown",
      "source": [
        "```\n",
        "8 + 6 = 14\n",
        "8 - 6 = 2\n",
        "8 * 6 = 48\n",
        "8 / 6 = 1.33\n",
        "8 % 6 = 2\n",
        "8 // 6 = 1\n",
        "8 ** 6 = 262144\n",
        "```"
      ],
      "metadata": {
        "id": "8Ch70k0ul-rA"
      },
      "id": "8Ch70k0ul-rA"
    },
    {
      "cell_type": "markdown",
      "source": [
        "\n",
        "\n",
        "---\n",
        "\n"
      ],
      "metadata": {
        "id": "QZ_QEY0xOrsD"
      },
      "id": "QZ_QEY0xOrsD"
    }
  ],
  "metadata": {
    "jupytext": {
      "cell_metadata_filter": "-all",
      "main_language": "sh",
      "notebook_metadata_filter": "-all"
    },
    "colab": {
      "provenance": [],
      "collapsed_sections": [
        "Hkx5_-qrRahO",
        "TbARLRhYL_su"
      ],
      "include_colab_link": true
    },
    "language_info": {
      "name": "python"
    },
    "kernelspec": {
      "name": "python3",
      "display_name": "Python 3"
    }
  },
  "nbformat": 4,
  "nbformat_minor": 5
}